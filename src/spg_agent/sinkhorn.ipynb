{
 "cells": [
  {
   "cell_type": "markdown",
   "metadata": {},
   "source": [
    "see snoek paper\n",
    "\n",
    "apply softmax - a point in the probability simplex, i.e. coordinates sum to 1\n",
    "apply softmax with temperature τ, let τ go to 0 or softmax get less soft - a vertex on simplex\n",
    "\n",
    "apply sinkhorn - a point in Birkhoff polytope, i.e. double stochastic matrix\n",
    "apply sinkhorn with temperature - a vertex of Birkhoff polytope, i.e. a permutation matrix\n",
    "\n",
    "n.b. Hungarian algorithm is used for rounding since can't apply sinkhorn in the limit"
   ]
  },
  {
   "cell_type": "code",
   "execution_count": 1,
   "metadata": {},
   "outputs": [],
   "source": [
    "import numpy as np"
   ]
  },
  {
   "cell_type": "code",
   "execution_count": 70,
   "metadata": {},
   "outputs": [],
   "source": [
    "# x = np.arange(9).reshape(3,3)\n",
    "\n",
    "x = np.array([[42,15,2], [333,666,4], [121,124,125]])"
   ]
  },
  {
   "cell_type": "code",
   "execution_count": 71,
   "metadata": {},
   "outputs": [
    {
     "name": "stderr",
     "output_type": "stream",
     "text": [
      "/usr/local/lib/python3.7/site-packages/ipykernel_launcher.py:1: RuntimeWarning: overflow encountered in exp\n",
      "  \"\"\"Entry point for launching an IPython kernel.\n"
     ]
    }
   ],
   "source": [
    "s0 = np.exp(x)"
   ]
  },
  {
   "cell_type": "code",
   "execution_count": 60,
   "metadata": {},
   "outputs": [
    {
     "data": {
      "text/plain": [
       "array([[1.73927494e+018, 3.26901737e+006, 7.38905610e+000],\n",
       "       [4.16929355e+144, 1.73830087e+289, 5.45981500e+001],\n",
       "       [3.54513118e+052, 7.12058633e+053, 1.93557604e+054]])"
      ]
     },
     "execution_count": 60,
     "metadata": {},
     "output_type": "execute_result"
    }
   ],
   "source": [
    "s0"
   ]
  },
  {
   "cell_type": "markdown",
   "metadata": {},
   "source": [
    "#### on broadcasting for row, col normalization"
   ]
  },
  {
   "cell_type": "code",
   "execution_count": 19,
   "metadata": {},
   "outputs": [],
   "source": [
    "a =  np.array([[1,1],[2,2]])"
   ]
  },
  {
   "cell_type": "code",
   "execution_count": 20,
   "metadata": {},
   "outputs": [
    {
     "data": {
      "text/plain": [
       "array([[0.5, 0.5],\n",
       "       [0.5, 0.5]])"
      ]
     },
     "execution_count": 20,
     "metadata": {},
     "output_type": "execute_result"
    }
   ],
   "source": [
    "a / np.sum(a, axis=1).reshape(2,1) # sum along row, broadcast along row (along dim whose val is 1 i.e. dim=1)"
   ]
  },
  {
   "cell_type": "code",
   "execution_count": 21,
   "metadata": {},
   "outputs": [
    {
     "data": {
      "text/plain": [
       "array([[0.33333333, 0.33333333],\n",
       "       [0.66666667, 0.66666667]])"
      ]
     },
     "execution_count": 21,
     "metadata": {},
     "output_type": "execute_result"
    }
   ],
   "source": [
    "a / np.sum(a, axis=0).reshape(1,2) # sum along col, broadcast along col"
   ]
  },
  {
   "cell_type": "code",
   "execution_count": 43,
   "metadata": {},
   "outputs": [],
   "source": [
    "def row_norm(x):\n",
    "    return x / np.sum(x, axis=1).reshape(-1,1)\n",
    "def col_norm(x):\n",
    "    return x / np.sum(x, axis=0).reshape(1,-1)\n",
    "\n",
    "def sums(x):\n",
    "    print('row sums: {}'.format(np.sum(x, axis=1))) \n",
    "    print('col sums: {}'.format(np.sum(x, axis=0))) "
   ]
  },
  {
   "cell_type": "code",
   "execution_count": 62,
   "metadata": {},
   "outputs": [
    {
     "name": "stdout",
     "output_type": "stream",
     "text": [
      "row sums: [0.98695942 0.79027149 1.2227691 ]\n",
      "col sums: [1. 1. 1.]\n"
     ]
    }
   ],
   "source": [
    "s = col_norm(row_norm(s0))\n",
    "sums(s)"
   ]
  },
  {
   "cell_type": "code",
   "execution_count": 65,
   "metadata": {},
   "outputs": [
    {
     "name": "stdout",
     "output_type": "stream",
     "text": [
      "row sums: [0.99200443 0.9089484  1.09904717]\n",
      "col sums: [1. 1. 1.]\n"
     ]
    }
   ],
   "source": [
    "# repeat \n",
    "s = col_norm(row_norm(s))\n",
    "sums(s)\n",
    "\n"
   ]
  },
  {
   "cell_type": "code",
   "execution_count": null,
   "metadata": {},
   "outputs": [],
   "source": []
  },
  {
   "cell_type": "code",
   "execution_count": null,
   "metadata": {},
   "outputs": [],
   "source": []
  },
  {
   "cell_type": "code",
   "execution_count": null,
   "metadata": {},
   "outputs": [],
   "source": []
  }
 ],
 "metadata": {
  "kernelspec": {
   "display_name": "Python 3",
   "language": "python",
   "name": "python3"
  },
  "language_info": {
   "codemirror_mode": {
    "name": "ipython",
    "version": 3
   },
   "file_extension": ".py",
   "mimetype": "text/x-python",
   "name": "python",
   "nbconvert_exporter": "python",
   "pygments_lexer": "ipython3",
   "version": "3.7.2"
  }
 },
 "nbformat": 4,
 "nbformat_minor": 2
}
